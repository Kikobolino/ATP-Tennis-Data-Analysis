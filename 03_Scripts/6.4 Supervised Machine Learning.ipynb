{
 "cells": [
  {
   "cell_type": "markdown",
   "id": "1d790e01",
   "metadata": {},
   "source": [
    "# 6.4 Supervised Machine Learning"
   ]
  },
  {
   "cell_type": "markdown",
   "id": "c30b1389",
   "metadata": {},
   "source": [
    "This notebook contains the following:\n",
    "### 1. Library and Data Import\n",
    "### 2. Data Cleaning\n",
    "###\n",
    "###"
   ]
  },
  {
   "cell_type": "markdown",
   "id": "4095446f",
   "metadata": {},
   "source": [
    "## 1. Library and Data Import"
   ]
  },
  {
   "cell_type": "code",
   "execution_count": 1,
   "id": "3a5f1af0",
   "metadata": {},
   "outputs": [],
   "source": [
    "# Importing libraries\n",
    "import pandas as pd\n",
    "import numpy as np\n",
    "import seaborn as sns\n",
    "import matplotlib\n",
    "import matplotlib.pyplot as plt\n",
    "import os\n",
    "import sklearn\n",
    "from sklearn.model_selection import train_test_split\n",
    "from sklearn.linear_model import LinearRegression\n",
    "from sklearn.metrics import mean_squared_error, r2_score"
   ]
  },
  {
   "cell_type": "code",
   "execution_count": 2,
   "id": "3de93167",
   "metadata": {},
   "outputs": [],
   "source": [
    "# Defining path\n",
    "path = r'C:\\Users\\chris\\OneDrive\\Desktop\\Data Analytics CF\\06_Advanced Analytics\\02_Prepared Data'"
   ]
  },
  {
   "cell_type": "code",
   "execution_count": 3,
   "id": "1a7604c8",
   "metadata": {},
   "outputs": [],
   "source": [
    "# Importing data\n",
    "df = pd.read_csv(os.path.join(path, 'data_columns_added.csv'))"
   ]
  },
  {
   "cell_type": "markdown",
   "id": "ceca7b18",
   "metadata": {},
   "source": [
    "## 2. Data Cleaning"
   ]
  },
  {
   "cell_type": "code",
   "execution_count": 4,
   "id": "c2b04cae",
   "metadata": {},
   "outputs": [
    {
     "data": {
      "text/plain": [
       "Index(['Unnamed: 0', 'tourney_id', 'tourney_name', 'surface', 'draw_size',\n",
       "       'tourney_level', 'tourney_date', 'match_num', 'winner_id',\n",
       "       'winner_seed', 'winner_entry', 'winner_name', 'winner_hand',\n",
       "       'winner_ht', 'winner_ioc', 'winner_age', 'loser_id', 'loser_seed',\n",
       "       'loser_entry', 'loser_name', 'loser_hand', 'loser_ht', 'loser_ioc',\n",
       "       'loser_age', 'score', 'best_of', 'round', 'minutes', 'w_ace', 'w_df',\n",
       "       'w_svpt', 'w_1stIn', 'w_1stWon', 'w_2ndWon', 'w_SvGms', 'w_bpSaved',\n",
       "       'w_bpFaced', 'l_ace', 'l_df', 'l_svpt', 'l_1stIn', 'l_1stWon',\n",
       "       'l_2ndWon', 'l_SvGms', 'l_bpSaved', 'l_bpFaced', 'winner_rank',\n",
       "       'winner_rank_points', 'loser_rank', 'loser_rank_points', 'w_ace_pct',\n",
       "       'l_ace_pct', 'w_1st_pct', 'l_1st_pct', 'w_1stS_WinPct', 'l_1stS_WinPct',\n",
       "       'w_2ndS_WinPct', 'l_2ndS_WinPct', 'w_PpSgm', 'l_PpSgm', 'Sets_played'],\n",
       "      dtype='object')"
      ]
     },
     "execution_count": 4,
     "metadata": {},
     "output_type": "execute_result"
    }
   ],
   "source": [
    "df.columns"
   ]
  },
  {
   "cell_type": "code",
   "execution_count": 5,
   "id": "b0dc5765",
   "metadata": {},
   "outputs": [
    {
     "data": {
      "text/html": [
       "<div>\n",
       "<style scoped>\n",
       "    .dataframe tbody tr th:only-of-type {\n",
       "        vertical-align: middle;\n",
       "    }\n",
       "\n",
       "    .dataframe tbody tr th {\n",
       "        vertical-align: top;\n",
       "    }\n",
       "\n",
       "    .dataframe thead th {\n",
       "        text-align: right;\n",
       "    }\n",
       "</style>\n",
       "<table border=\"1\" class=\"dataframe\">\n",
       "  <thead>\n",
       "    <tr style=\"text-align: right;\">\n",
       "      <th></th>\n",
       "      <th>Unnamed: 0</th>\n",
       "      <th>tourney_id</th>\n",
       "      <th>tourney_name</th>\n",
       "      <th>surface</th>\n",
       "      <th>draw_size</th>\n",
       "      <th>tourney_level</th>\n",
       "      <th>tourney_date</th>\n",
       "      <th>match_num</th>\n",
       "      <th>winner_id</th>\n",
       "      <th>winner_seed</th>\n",
       "      <th>...</th>\n",
       "      <th>l_ace_pct</th>\n",
       "      <th>w_1st_pct</th>\n",
       "      <th>l_1st_pct</th>\n",
       "      <th>w_1stS_WinPct</th>\n",
       "      <th>l_1stS_WinPct</th>\n",
       "      <th>w_2ndS_WinPct</th>\n",
       "      <th>l_2ndS_WinPct</th>\n",
       "      <th>w_PpSgm</th>\n",
       "      <th>l_PpSgm</th>\n",
       "      <th>Sets_played</th>\n",
       "    </tr>\n",
       "  </thead>\n",
       "  <tbody>\n",
       "    <tr>\n",
       "      <th>0</th>\n",
       "      <td>0</td>\n",
       "      <td>2002-1536</td>\n",
       "      <td>Madrid Masters</td>\n",
       "      <td>Hard</td>\n",
       "      <td>48</td>\n",
       "      <td>M</td>\n",
       "      <td>2002-10-14</td>\n",
       "      <td>1</td>\n",
       "      <td>102148</td>\n",
       "      <td>NaN</td>\n",
       "      <td>...</td>\n",
       "      <td>0.114286</td>\n",
       "      <td>0.603175</td>\n",
       "      <td>0.542857</td>\n",
       "      <td>0.763158</td>\n",
       "      <td>0.842105</td>\n",
       "      <td>0.680000</td>\n",
       "      <td>0.406250</td>\n",
       "      <td>5.727273</td>\n",
       "      <td>7.000000</td>\n",
       "      <td>2</td>\n",
       "    </tr>\n",
       "    <tr>\n",
       "      <th>1</th>\n",
       "      <td>1</td>\n",
       "      <td>2002-1536</td>\n",
       "      <td>Madrid Masters</td>\n",
       "      <td>Hard</td>\n",
       "      <td>48</td>\n",
       "      <td>M</td>\n",
       "      <td>2002-10-14</td>\n",
       "      <td>2</td>\n",
       "      <td>103900</td>\n",
       "      <td>NaN</td>\n",
       "      <td>...</td>\n",
       "      <td>0.023256</td>\n",
       "      <td>0.596154</td>\n",
       "      <td>0.790698</td>\n",
       "      <td>0.741935</td>\n",
       "      <td>0.441176</td>\n",
       "      <td>0.619048</td>\n",
       "      <td>0.333333</td>\n",
       "      <td>7.428571</td>\n",
       "      <td>6.142857</td>\n",
       "      <td>2</td>\n",
       "    </tr>\n",
       "    <tr>\n",
       "      <th>2</th>\n",
       "      <td>2</td>\n",
       "      <td>2002-1536</td>\n",
       "      <td>Madrid Masters</td>\n",
       "      <td>Hard</td>\n",
       "      <td>48</td>\n",
       "      <td>M</td>\n",
       "      <td>2002-10-14</td>\n",
       "      <td>3</td>\n",
       "      <td>102701</td>\n",
       "      <td>NaN</td>\n",
       "      <td>...</td>\n",
       "      <td>0.042553</td>\n",
       "      <td>0.684211</td>\n",
       "      <td>0.702128</td>\n",
       "      <td>0.794872</td>\n",
       "      <td>0.545455</td>\n",
       "      <td>0.444444</td>\n",
       "      <td>0.500000</td>\n",
       "      <td>7.125000</td>\n",
       "      <td>5.875000</td>\n",
       "      <td>2</td>\n",
       "    </tr>\n",
       "    <tr>\n",
       "      <th>3</th>\n",
       "      <td>3</td>\n",
       "      <td>2002-1536</td>\n",
       "      <td>Madrid Masters</td>\n",
       "      <td>Hard</td>\n",
       "      <td>48</td>\n",
       "      <td>M</td>\n",
       "      <td>2002-10-14</td>\n",
       "      <td>4</td>\n",
       "      <td>102839</td>\n",
       "      <td>NaN</td>\n",
       "      <td>...</td>\n",
       "      <td>0.039474</td>\n",
       "      <td>0.561644</td>\n",
       "      <td>0.486842</td>\n",
       "      <td>0.682927</td>\n",
       "      <td>0.702703</td>\n",
       "      <td>0.468750</td>\n",
       "      <td>0.333333</td>\n",
       "      <td>8.111111</td>\n",
       "      <td>7.600000</td>\n",
       "      <td>2</td>\n",
       "    </tr>\n",
       "    <tr>\n",
       "      <th>4</th>\n",
       "      <td>4</td>\n",
       "      <td>2002-1536</td>\n",
       "      <td>Madrid Masters</td>\n",
       "      <td>Hard</td>\n",
       "      <td>48</td>\n",
       "      <td>M</td>\n",
       "      <td>2002-10-14</td>\n",
       "      <td>5</td>\n",
       "      <td>103387</td>\n",
       "      <td>NaN</td>\n",
       "      <td>...</td>\n",
       "      <td>0.068493</td>\n",
       "      <td>0.551724</td>\n",
       "      <td>0.616438</td>\n",
       "      <td>0.875000</td>\n",
       "      <td>0.666667</td>\n",
       "      <td>0.538462</td>\n",
       "      <td>0.500000</td>\n",
       "      <td>5.800000</td>\n",
       "      <td>7.300000</td>\n",
       "      <td>2</td>\n",
       "    </tr>\n",
       "  </tbody>\n",
       "</table>\n",
       "<p>5 rows × 61 columns</p>\n",
       "</div>"
      ],
      "text/plain": [
       "   Unnamed: 0 tourney_id    tourney_name surface  draw_size tourney_level  \\\n",
       "0           0  2002-1536  Madrid Masters    Hard         48             M   \n",
       "1           1  2002-1536  Madrid Masters    Hard         48             M   \n",
       "2           2  2002-1536  Madrid Masters    Hard         48             M   \n",
       "3           3  2002-1536  Madrid Masters    Hard         48             M   \n",
       "4           4  2002-1536  Madrid Masters    Hard         48             M   \n",
       "\n",
       "  tourney_date  match_num  winner_id  winner_seed  ... l_ace_pct w_1st_pct  \\\n",
       "0   2002-10-14          1     102148          NaN  ...  0.114286  0.603175   \n",
       "1   2002-10-14          2     103900          NaN  ...  0.023256  0.596154   \n",
       "2   2002-10-14          3     102701          NaN  ...  0.042553  0.684211   \n",
       "3   2002-10-14          4     102839          NaN  ...  0.039474  0.561644   \n",
       "4   2002-10-14          5     103387          NaN  ...  0.068493  0.551724   \n",
       "\n",
       "  l_1st_pct  w_1stS_WinPct l_1stS_WinPct  w_2ndS_WinPct  l_2ndS_WinPct  \\\n",
       "0  0.542857       0.763158      0.842105       0.680000       0.406250   \n",
       "1  0.790698       0.741935      0.441176       0.619048       0.333333   \n",
       "2  0.702128       0.794872      0.545455       0.444444       0.500000   \n",
       "3  0.486842       0.682927      0.702703       0.468750       0.333333   \n",
       "4  0.616438       0.875000      0.666667       0.538462       0.500000   \n",
       "\n",
       "    w_PpSgm   l_PpSgm Sets_played  \n",
       "0  5.727273  7.000000           2  \n",
       "1  7.428571  6.142857           2  \n",
       "2  7.125000  5.875000           2  \n",
       "3  8.111111  7.600000           2  \n",
       "4  5.800000  7.300000           2  \n",
       "\n",
       "[5 rows x 61 columns]"
      ]
     },
     "execution_count": 5,
     "metadata": {},
     "output_type": "execute_result"
    }
   ],
   "source": [
    "df.head()"
   ]
  },
  {
   "cell_type": "code",
   "execution_count": 6,
   "id": "9ec57f81",
   "metadata": {},
   "outputs": [
    {
     "data": {
      "text/plain": [
       "(60699, 61)"
      ]
     },
     "execution_count": 6,
     "metadata": {},
     "output_type": "execute_result"
    }
   ],
   "source": [
    "df.shape"
   ]
  },
  {
   "cell_type": "markdown",
   "id": "f3eee85f",
   "metadata": {},
   "source": [
    "#### Missing values"
   ]
  },
  {
   "cell_type": "code",
   "execution_count": 7,
   "id": "8a303ebc",
   "metadata": {},
   "outputs": [
    {
     "data": {
      "text/plain": [
       "Unnamed: 0          0\n",
       "tourney_id          0\n",
       "tourney_name        0\n",
       "surface             0\n",
       "draw_size           0\n",
       "                 ... \n",
       "w_2ndS_WinPct    5462\n",
       "l_2ndS_WinPct    5460\n",
       "w_PpSgm          5451\n",
       "l_PpSgm          5450\n",
       "Sets_played         0\n",
       "Length: 61, dtype: int64"
      ]
     },
     "execution_count": 7,
     "metadata": {},
     "output_type": "execute_result"
    }
   ],
   "source": [
    "# Checking for missing values\n",
    "df.isnull().sum()"
   ]
  },
  {
   "cell_type": "code",
   "execution_count": 8,
   "id": "54a62173",
   "metadata": {},
   "outputs": [],
   "source": [
    "# Creating a subset that only contains where the winner's number of service games played is available in the data\n",
    "df_new = df.dropna(subset = ['w_SvGms'])"
   ]
  },
  {
   "cell_type": "code",
   "execution_count": 9,
   "id": "0c149a51",
   "metadata": {},
   "outputs": [
    {
     "data": {
      "text/plain": [
       "0"
      ]
     },
     "execution_count": 9,
     "metadata": {},
     "output_type": "execute_result"
    }
   ],
   "source": [
    "df_new['w_SvGms'].isnull().sum()"
   ]
  },
  {
   "cell_type": "code",
   "execution_count": 10,
   "id": "2a826a73",
   "metadata": {},
   "outputs": [
    {
     "data": {
      "text/plain": [
       "1344"
      ]
     },
     "execution_count": 10,
     "metadata": {},
     "output_type": "execute_result"
    }
   ],
   "source": [
    "df_new['minutes'].isnull().sum()"
   ]
  },
  {
   "cell_type": "code",
   "execution_count": 11,
   "id": "ddb68528",
   "metadata": {},
   "outputs": [],
   "source": [
    "df_new = df.dropna(subset = ['minutes'])"
   ]
  },
  {
   "cell_type": "code",
   "execution_count": 12,
   "id": "f970fc5d",
   "metadata": {},
   "outputs": [
    {
     "data": {
      "text/plain": [
       "Unnamed: 0        0\n",
       "tourney_id        0\n",
       "tourney_name      0\n",
       "surface           0\n",
       "draw_size         0\n",
       "                 ..\n",
       "w_2ndS_WinPct    50\n",
       "l_2ndS_WinPct    48\n",
       "w_PpSgm          44\n",
       "l_PpSgm          43\n",
       "Sets_played       0\n",
       "Length: 61, dtype: int64"
      ]
     },
     "execution_count": 12,
     "metadata": {},
     "output_type": "execute_result"
    }
   ],
   "source": [
    "df_new.isnull().sum()"
   ]
  },
  {
   "cell_type": "code",
   "execution_count": 13,
   "id": "9552d37f",
   "metadata": {
    "scrolled": true
   },
   "outputs": [
    {
     "data": {
      "text/plain": [
       "0"
      ]
     },
     "execution_count": 13,
     "metadata": {},
     "output_type": "execute_result"
    }
   ],
   "source": [
    "df_new['minutes'].isnull().sum()"
   ]
  },
  {
   "cell_type": "code",
   "execution_count": 14,
   "id": "f97e966f",
   "metadata": {},
   "outputs": [
    {
     "data": {
      "text/html": [
       "<div>\n",
       "<style scoped>\n",
       "    .dataframe tbody tr th:only-of-type {\n",
       "        vertical-align: middle;\n",
       "    }\n",
       "\n",
       "    .dataframe tbody tr th {\n",
       "        vertical-align: top;\n",
       "    }\n",
       "\n",
       "    .dataframe thead th {\n",
       "        text-align: right;\n",
       "    }\n",
       "</style>\n",
       "<table border=\"1\" class=\"dataframe\">\n",
       "  <thead>\n",
       "    <tr style=\"text-align: right;\">\n",
       "      <th></th>\n",
       "      <th>Unnamed: 0</th>\n",
       "      <th>tourney_id</th>\n",
       "      <th>tourney_name</th>\n",
       "      <th>surface</th>\n",
       "      <th>draw_size</th>\n",
       "      <th>tourney_level</th>\n",
       "      <th>tourney_date</th>\n",
       "      <th>match_num</th>\n",
       "      <th>winner_id</th>\n",
       "      <th>winner_seed</th>\n",
       "      <th>...</th>\n",
       "      <th>l_ace_pct</th>\n",
       "      <th>w_1st_pct</th>\n",
       "      <th>l_1st_pct</th>\n",
       "      <th>w_1stS_WinPct</th>\n",
       "      <th>l_1stS_WinPct</th>\n",
       "      <th>w_2ndS_WinPct</th>\n",
       "      <th>l_2ndS_WinPct</th>\n",
       "      <th>w_PpSgm</th>\n",
       "      <th>l_PpSgm</th>\n",
       "      <th>Sets_played</th>\n",
       "    </tr>\n",
       "  </thead>\n",
       "  <tbody>\n",
       "    <tr>\n",
       "      <th>55275</th>\n",
       "      <td>55275</td>\n",
       "      <td>2020-580</td>\n",
       "      <td>Australian Open</td>\n",
       "      <td>Hard</td>\n",
       "      <td>128</td>\n",
       "      <td>G</td>\n",
       "      <td>2020-01-20</td>\n",
       "      <td>188</td>\n",
       "      <td>126774</td>\n",
       "      <td>6.0</td>\n",
       "      <td>...</td>\n",
       "      <td>NaN</td>\n",
       "      <td>NaN</td>\n",
       "      <td>NaN</td>\n",
       "      <td>NaN</td>\n",
       "      <td>NaN</td>\n",
       "      <td>NaN</td>\n",
       "      <td>NaN</td>\n",
       "      <td>NaN</td>\n",
       "      <td>NaN</td>\n",
       "      <td>0</td>\n",
       "    </tr>\n",
       "    <tr>\n",
       "      <th>55381</th>\n",
       "      <td>55381</td>\n",
       "      <td>2020-0891</td>\n",
       "      <td>Pune</td>\n",
       "      <td>Hard</td>\n",
       "      <td>32</td>\n",
       "      <td>A</td>\n",
       "      <td>2020-02-03</td>\n",
       "      <td>287</td>\n",
       "      <td>105216</td>\n",
       "      <td>5.0</td>\n",
       "      <td>...</td>\n",
       "      <td>NaN</td>\n",
       "      <td>NaN</td>\n",
       "      <td>NaN</td>\n",
       "      <td>NaN</td>\n",
       "      <td>NaN</td>\n",
       "      <td>NaN</td>\n",
       "      <td>NaN</td>\n",
       "      <td>NaN</td>\n",
       "      <td>NaN</td>\n",
       "      <td>0</td>\n",
       "    </tr>\n",
       "    <tr>\n",
       "      <th>55396</th>\n",
       "      <td>55396</td>\n",
       "      <td>2020-0506</td>\n",
       "      <td>Buenos Aires</td>\n",
       "      <td>Clay</td>\n",
       "      <td>32</td>\n",
       "      <td>A</td>\n",
       "      <td>2020-02-10</td>\n",
       "      <td>299</td>\n",
       "      <td>105155</td>\n",
       "      <td>NaN</td>\n",
       "      <td>...</td>\n",
       "      <td>NaN</td>\n",
       "      <td>NaN</td>\n",
       "      <td>NaN</td>\n",
       "      <td>NaN</td>\n",
       "      <td>NaN</td>\n",
       "      <td>NaN</td>\n",
       "      <td>NaN</td>\n",
       "      <td>NaN</td>\n",
       "      <td>NaN</td>\n",
       "      <td>0</td>\n",
       "    </tr>\n",
       "    <tr>\n",
       "      <th>55474</th>\n",
       "      <td>55474</td>\n",
       "      <td>2020-0407</td>\n",
       "      <td>Rotterdam</td>\n",
       "      <td>Hard</td>\n",
       "      <td>32</td>\n",
       "      <td>A</td>\n",
       "      <td>2020-02-10</td>\n",
       "      <td>275</td>\n",
       "      <td>206173</td>\n",
       "      <td>NaN</td>\n",
       "      <td>...</td>\n",
       "      <td>NaN</td>\n",
       "      <td>NaN</td>\n",
       "      <td>NaN</td>\n",
       "      <td>NaN</td>\n",
       "      <td>NaN</td>\n",
       "      <td>NaN</td>\n",
       "      <td>NaN</td>\n",
       "      <td>NaN</td>\n",
       "      <td>NaN</td>\n",
       "      <td>0</td>\n",
       "    </tr>\n",
       "    <tr>\n",
       "      <th>56278</th>\n",
       "      <td>56278</td>\n",
       "      <td>2020-0352</td>\n",
       "      <td>Paris Masters</td>\n",
       "      <td>Hard</td>\n",
       "      <td>64</td>\n",
       "      <td>M</td>\n",
       "      <td>2020-11-02</td>\n",
       "      <td>271</td>\n",
       "      <td>105227</td>\n",
       "      <td>NaN</td>\n",
       "      <td>...</td>\n",
       "      <td>NaN</td>\n",
       "      <td>NaN</td>\n",
       "      <td>NaN</td>\n",
       "      <td>NaN</td>\n",
       "      <td>NaN</td>\n",
       "      <td>NaN</td>\n",
       "      <td>NaN</td>\n",
       "      <td>NaN</td>\n",
       "      <td>NaN</td>\n",
       "      <td>0</td>\n",
       "    </tr>\n",
       "    <tr>\n",
       "      <th>56459</th>\n",
       "      <td>56459</td>\n",
       "      <td>2020-7485</td>\n",
       "      <td>Antwerp</td>\n",
       "      <td>Hard</td>\n",
       "      <td>32</td>\n",
       "      <td>A</td>\n",
       "      <td>2020-10-19</td>\n",
       "      <td>105</td>\n",
       "      <td>105777</td>\n",
       "      <td>4.0</td>\n",
       "      <td>...</td>\n",
       "      <td>NaN</td>\n",
       "      <td>NaN</td>\n",
       "      <td>NaN</td>\n",
       "      <td>NaN</td>\n",
       "      <td>NaN</td>\n",
       "      <td>NaN</td>\n",
       "      <td>NaN</td>\n",
       "      <td>NaN</td>\n",
       "      <td>NaN</td>\n",
       "      <td>0</td>\n",
       "    </tr>\n",
       "    <tr>\n",
       "      <th>56563</th>\n",
       "      <td>56563</td>\n",
       "      <td>2021-0308</td>\n",
       "      <td>Munich</td>\n",
       "      <td>Clay</td>\n",
       "      <td>32</td>\n",
       "      <td>A</td>\n",
       "      <td>2021-04-26</td>\n",
       "      <td>291</td>\n",
       "      <td>105936</td>\n",
       "      <td>4.0</td>\n",
       "      <td>...</td>\n",
       "      <td>NaN</td>\n",
       "      <td>NaN</td>\n",
       "      <td>NaN</td>\n",
       "      <td>NaN</td>\n",
       "      <td>NaN</td>\n",
       "      <td>NaN</td>\n",
       "      <td>NaN</td>\n",
       "      <td>NaN</td>\n",
       "      <td>NaN</td>\n",
       "      <td>0</td>\n",
       "    </tr>\n",
       "    <tr>\n",
       "      <th>56681</th>\n",
       "      <td>56681</td>\n",
       "      <td>2021-0316</td>\n",
       "      <td>Bastad</td>\n",
       "      <td>Clay</td>\n",
       "      <td>32</td>\n",
       "      <td>A</td>\n",
       "      <td>2021-07-12</td>\n",
       "      <td>297</td>\n",
       "      <td>134770</td>\n",
       "      <td>1.0</td>\n",
       "      <td>...</td>\n",
       "      <td>NaN</td>\n",
       "      <td>NaN</td>\n",
       "      <td>NaN</td>\n",
       "      <td>NaN</td>\n",
       "      <td>NaN</td>\n",
       "      <td>NaN</td>\n",
       "      <td>NaN</td>\n",
       "      <td>NaN</td>\n",
       "      <td>NaN</td>\n",
       "      <td>0</td>\n",
       "    </tr>\n",
       "    <tr>\n",
       "      <th>56871</th>\n",
       "      <td>56871</td>\n",
       "      <td>2021-0352</td>\n",
       "      <td>Paris Masters</td>\n",
       "      <td>Hard</td>\n",
       "      <td>64</td>\n",
       "      <td>M</td>\n",
       "      <td>2021-11-01</td>\n",
       "      <td>293</td>\n",
       "      <td>104925</td>\n",
       "      <td>1.0</td>\n",
       "      <td>...</td>\n",
       "      <td>NaN</td>\n",
       "      <td>NaN</td>\n",
       "      <td>NaN</td>\n",
       "      <td>NaN</td>\n",
       "      <td>NaN</td>\n",
       "      <td>NaN</td>\n",
       "      <td>NaN</td>\n",
       "      <td>NaN</td>\n",
       "      <td>NaN</td>\n",
       "      <td>0</td>\n",
       "    </tr>\n",
       "    <tr>\n",
       "      <th>56962</th>\n",
       "      <td>56962</td>\n",
       "      <td>2021-0403</td>\n",
       "      <td>Miami Masters</td>\n",
       "      <td>Hard</td>\n",
       "      <td>128</td>\n",
       "      <td>M</td>\n",
       "      <td>2021-03-22</td>\n",
       "      <td>262</td>\n",
       "      <td>105138</td>\n",
       "      <td>7.0</td>\n",
       "      <td>...</td>\n",
       "      <td>NaN</td>\n",
       "      <td>NaN</td>\n",
       "      <td>NaN</td>\n",
       "      <td>NaN</td>\n",
       "      <td>NaN</td>\n",
       "      <td>NaN</td>\n",
       "      <td>NaN</td>\n",
       "      <td>NaN</td>\n",
       "      <td>NaN</td>\n",
       "      <td>0</td>\n",
       "    </tr>\n",
       "    <tr>\n",
       "      <th>57235</th>\n",
       "      <td>57235</td>\n",
       "      <td>2021-0416</td>\n",
       "      <td>Rome Masters</td>\n",
       "      <td>Clay</td>\n",
       "      <td>64</td>\n",
       "      <td>M</td>\n",
       "      <td>2021-05-10</td>\n",
       "      <td>272</td>\n",
       "      <td>105453</td>\n",
       "      <td>NaN</td>\n",
       "      <td>...</td>\n",
       "      <td>NaN</td>\n",
       "      <td>NaN</td>\n",
       "      <td>NaN</td>\n",
       "      <td>NaN</td>\n",
       "      <td>NaN</td>\n",
       "      <td>NaN</td>\n",
       "      <td>NaN</td>\n",
       "      <td>NaN</td>\n",
       "      <td>NaN</td>\n",
       "      <td>0</td>\n",
       "    </tr>\n",
       "    <tr>\n",
       "      <th>57339</th>\n",
       "      <td>57339</td>\n",
       "      <td>2021-0421</td>\n",
       "      <td>Canada Masters</td>\n",
       "      <td>Hard</td>\n",
       "      <td>64</td>\n",
       "      <td>M</td>\n",
       "      <td>2021-08-09</td>\n",
       "      <td>282</td>\n",
       "      <td>128034</td>\n",
       "      <td>7.0</td>\n",
       "      <td>...</td>\n",
       "      <td>NaN</td>\n",
       "      <td>NaN</td>\n",
       "      <td>NaN</td>\n",
       "      <td>NaN</td>\n",
       "      <td>NaN</td>\n",
       "      <td>NaN</td>\n",
       "      <td>NaN</td>\n",
       "      <td>NaN</td>\n",
       "      <td>NaN</td>\n",
       "      <td>0</td>\n",
       "    </tr>\n",
       "    <tr>\n",
       "      <th>57558</th>\n",
       "      <td>57558</td>\n",
       "      <td>2021-0451</td>\n",
       "      <td>Doha</td>\n",
       "      <td>Hard</td>\n",
       "      <td>32</td>\n",
       "      <td>A</td>\n",
       "      <td>2021-03-08</td>\n",
       "      <td>291</td>\n",
       "      <td>126094</td>\n",
       "      <td>3.0</td>\n",
       "      <td>...</td>\n",
       "      <td>NaN</td>\n",
       "      <td>NaN</td>\n",
       "      <td>NaN</td>\n",
       "      <td>NaN</td>\n",
       "      <td>NaN</td>\n",
       "      <td>NaN</td>\n",
       "      <td>NaN</td>\n",
       "      <td>NaN</td>\n",
       "      <td>NaN</td>\n",
       "      <td>0</td>\n",
       "    </tr>\n",
       "    <tr>\n",
       "      <th>57563</th>\n",
       "      <td>57563</td>\n",
       "      <td>2021-0451</td>\n",
       "      <td>Doha</td>\n",
       "      <td>Hard</td>\n",
       "      <td>32</td>\n",
       "      <td>A</td>\n",
       "      <td>2021-03-08</td>\n",
       "      <td>296</td>\n",
       "      <td>126094</td>\n",
       "      <td>3.0</td>\n",
       "      <td>...</td>\n",
       "      <td>NaN</td>\n",
       "      <td>NaN</td>\n",
       "      <td>NaN</td>\n",
       "      <td>NaN</td>\n",
       "      <td>NaN</td>\n",
       "      <td>NaN</td>\n",
       "      <td>NaN</td>\n",
       "      <td>NaN</td>\n",
       "      <td>NaN</td>\n",
       "      <td>0</td>\n",
       "    </tr>\n",
       "    <tr>\n",
       "      <th>58406</th>\n",
       "      <td>58406</td>\n",
       "      <td>2021-580</td>\n",
       "      <td>Australian Open</td>\n",
       "      <td>Hard</td>\n",
       "      <td>128</td>\n",
       "      <td>G</td>\n",
       "      <td>2021-02-08</td>\n",
       "      <td>218</td>\n",
       "      <td>126774</td>\n",
       "      <td>5.0</td>\n",
       "      <td>...</td>\n",
       "      <td>NaN</td>\n",
       "      <td>NaN</td>\n",
       "      <td>NaN</td>\n",
       "      <td>NaN</td>\n",
       "      <td>NaN</td>\n",
       "      <td>NaN</td>\n",
       "      <td>NaN</td>\n",
       "      <td>NaN</td>\n",
       "      <td>NaN</td>\n",
       "      <td>0</td>\n",
       "    </tr>\n",
       "    <tr>\n",
       "      <th>58501</th>\n",
       "      <td>58501</td>\n",
       "      <td>2021-7290</td>\n",
       "      <td>Estoril</td>\n",
       "      <td>Clay</td>\n",
       "      <td>32</td>\n",
       "      <td>A</td>\n",
       "      <td>2021-04-26</td>\n",
       "      <td>286</td>\n",
       "      <td>106426</td>\n",
       "      <td>2.0</td>\n",
       "      <td>...</td>\n",
       "      <td>NaN</td>\n",
       "      <td>NaN</td>\n",
       "      <td>NaN</td>\n",
       "      <td>NaN</td>\n",
       "      <td>NaN</td>\n",
       "      <td>NaN</td>\n",
       "      <td>NaN</td>\n",
       "      <td>NaN</td>\n",
       "      <td>NaN</td>\n",
       "      <td>0</td>\n",
       "    </tr>\n",
       "    <tr>\n",
       "      <th>58528</th>\n",
       "      <td>58528</td>\n",
       "      <td>2021-7434</td>\n",
       "      <td>Sofia</td>\n",
       "      <td>Hard</td>\n",
       "      <td>32</td>\n",
       "      <td>A</td>\n",
       "      <td>2021-09-27</td>\n",
       "      <td>286</td>\n",
       "      <td>104792</td>\n",
       "      <td>2.0</td>\n",
       "      <td>...</td>\n",
       "      <td>NaN</td>\n",
       "      <td>NaN</td>\n",
       "      <td>NaN</td>\n",
       "      <td>NaN</td>\n",
       "      <td>NaN</td>\n",
       "      <td>NaN</td>\n",
       "      <td>NaN</td>\n",
       "      <td>NaN</td>\n",
       "      <td>NaN</td>\n",
       "      <td>0</td>\n",
       "    </tr>\n",
       "    <tr>\n",
       "      <th>58684</th>\n",
       "      <td>58684</td>\n",
       "      <td>2021-8994</td>\n",
       "      <td>Mallorca</td>\n",
       "      <td>Grass</td>\n",
       "      <td>32</td>\n",
       "      <td>A</td>\n",
       "      <td>2021-06-21</td>\n",
       "      <td>289</td>\n",
       "      <td>105023</td>\n",
       "      <td>NaN</td>\n",
       "      <td>...</td>\n",
       "      <td>NaN</td>\n",
       "      <td>NaN</td>\n",
       "      <td>NaN</td>\n",
       "      <td>NaN</td>\n",
       "      <td>NaN</td>\n",
       "      <td>NaN</td>\n",
       "      <td>NaN</td>\n",
       "      <td>NaN</td>\n",
       "      <td>NaN</td>\n",
       "      <td>0</td>\n",
       "    </tr>\n",
       "    <tr>\n",
       "      <th>58852</th>\n",
       "      <td>58852</td>\n",
       "      <td>2021-9426</td>\n",
       "      <td>Antalya</td>\n",
       "      <td>Hard</td>\n",
       "      <td>32</td>\n",
       "      <td>A</td>\n",
       "      <td>2021-01-05</td>\n",
       "      <td>290</td>\n",
       "      <td>105526</td>\n",
       "      <td>5.0</td>\n",
       "      <td>...</td>\n",
       "      <td>NaN</td>\n",
       "      <td>NaN</td>\n",
       "      <td>NaN</td>\n",
       "      <td>NaN</td>\n",
       "      <td>NaN</td>\n",
       "      <td>NaN</td>\n",
       "      <td>NaN</td>\n",
       "      <td>NaN</td>\n",
       "      <td>NaN</td>\n",
       "      <td>0</td>\n",
       "    </tr>\n",
       "    <tr>\n",
       "      <th>58914</th>\n",
       "      <td>58914</td>\n",
       "      <td>2021-9428</td>\n",
       "      <td>Murray River Open</td>\n",
       "      <td>Hard</td>\n",
       "      <td>64</td>\n",
       "      <td>A</td>\n",
       "      <td>2021-02-01</td>\n",
       "      <td>297</td>\n",
       "      <td>104871</td>\n",
       "      <td>NaN</td>\n",
       "      <td>...</td>\n",
       "      <td>NaN</td>\n",
       "      <td>NaN</td>\n",
       "      <td>NaN</td>\n",
       "      <td>NaN</td>\n",
       "      <td>NaN</td>\n",
       "      <td>NaN</td>\n",
       "      <td>NaN</td>\n",
       "      <td>NaN</td>\n",
       "      <td>NaN</td>\n",
       "      <td>0</td>\n",
       "    </tr>\n",
       "    <tr>\n",
       "      <th>59046</th>\n",
       "      <td>59046</td>\n",
       "      <td>2021-9512</td>\n",
       "      <td>Belgrade 2</td>\n",
       "      <td>Clay</td>\n",
       "      <td>32</td>\n",
       "      <td>A</td>\n",
       "      <td>2021-05-24</td>\n",
       "      <td>294</td>\n",
       "      <td>105643</td>\n",
       "      <td>8.0</td>\n",
       "      <td>...</td>\n",
       "      <td>NaN</td>\n",
       "      <td>NaN</td>\n",
       "      <td>NaN</td>\n",
       "      <td>NaN</td>\n",
       "      <td>NaN</td>\n",
       "      <td>NaN</td>\n",
       "      <td>NaN</td>\n",
       "      <td>NaN</td>\n",
       "      <td>NaN</td>\n",
       "      <td>0</td>\n",
       "    </tr>\n",
       "    <tr>\n",
       "      <th>59293</th>\n",
       "      <td>59293</td>\n",
       "      <td>2022-9665</td>\n",
       "      <td>Melbourne</td>\n",
       "      <td>Hard</td>\n",
       "      <td>32</td>\n",
       "      <td>A</td>\n",
       "      <td>2022-01-03</td>\n",
       "      <td>297</td>\n",
       "      <td>104745</td>\n",
       "      <td>1.0</td>\n",
       "      <td>...</td>\n",
       "      <td>NaN</td>\n",
       "      <td>NaN</td>\n",
       "      <td>NaN</td>\n",
       "      <td>NaN</td>\n",
       "      <td>NaN</td>\n",
       "      <td>NaN</td>\n",
       "      <td>NaN</td>\n",
       "      <td>NaN</td>\n",
       "      <td>NaN</td>\n",
       "      <td>0</td>\n",
       "    </tr>\n",
       "    <tr>\n",
       "      <th>59461</th>\n",
       "      <td>59461</td>\n",
       "      <td>2022-580</td>\n",
       "      <td>Australian Open</td>\n",
       "      <td>Hard</td>\n",
       "      <td>128</td>\n",
       "      <td>G</td>\n",
       "      <td>2022-01-17</td>\n",
       "      <td>190</td>\n",
       "      <td>105554</td>\n",
       "      <td>24.0</td>\n",
       "      <td>...</td>\n",
       "      <td>NaN</td>\n",
       "      <td>NaN</td>\n",
       "      <td>NaN</td>\n",
       "      <td>NaN</td>\n",
       "      <td>NaN</td>\n",
       "      <td>NaN</td>\n",
       "      <td>NaN</td>\n",
       "      <td>NaN</td>\n",
       "      <td>NaN</td>\n",
       "      <td>0</td>\n",
       "    </tr>\n",
       "    <tr>\n",
       "      <th>59871</th>\n",
       "      <td>59871</td>\n",
       "      <td>2022-0404</td>\n",
       "      <td>Indian Wells Masters</td>\n",
       "      <td>Hard</td>\n",
       "      <td>128</td>\n",
       "      <td>M</td>\n",
       "      <td>2022-03-07</td>\n",
       "      <td>290</td>\n",
       "      <td>106401</td>\n",
       "      <td>NaN</td>\n",
       "      <td>...</td>\n",
       "      <td>NaN</td>\n",
       "      <td>NaN</td>\n",
       "      <td>NaN</td>\n",
       "      <td>NaN</td>\n",
       "      <td>NaN</td>\n",
       "      <td>NaN</td>\n",
       "      <td>NaN</td>\n",
       "      <td>NaN</td>\n",
       "      <td>NaN</td>\n",
       "      <td>0</td>\n",
       "    </tr>\n",
       "    <tr>\n",
       "      <th>59897</th>\n",
       "      <td>59897</td>\n",
       "      <td>2022-0404</td>\n",
       "      <td>Indian Wells Masters</td>\n",
       "      <td>Hard</td>\n",
       "      <td>128</td>\n",
       "      <td>M</td>\n",
       "      <td>2022-03-07</td>\n",
       "      <td>264</td>\n",
       "      <td>105932</td>\n",
       "      <td>18.0</td>\n",
       "      <td>...</td>\n",
       "      <td>NaN</td>\n",
       "      <td>NaN</td>\n",
       "      <td>NaN</td>\n",
       "      <td>NaN</td>\n",
       "      <td>NaN</td>\n",
       "      <td>NaN</td>\n",
       "      <td>NaN</td>\n",
       "      <td>NaN</td>\n",
       "      <td>NaN</td>\n",
       "      <td>0</td>\n",
       "    </tr>\n",
       "    <tr>\n",
       "      <th>60054</th>\n",
       "      <td>60054</td>\n",
       "      <td>2022-0717</td>\n",
       "      <td>Houston</td>\n",
       "      <td>Clay</td>\n",
       "      <td>32</td>\n",
       "      <td>A</td>\n",
       "      <td>2022-04-04</td>\n",
       "      <td>297</td>\n",
       "      <td>106401</td>\n",
       "      <td>NaN</td>\n",
       "      <td>...</td>\n",
       "      <td>NaN</td>\n",
       "      <td>NaN</td>\n",
       "      <td>NaN</td>\n",
       "      <td>NaN</td>\n",
       "      <td>NaN</td>\n",
       "      <td>NaN</td>\n",
       "      <td>NaN</td>\n",
       "      <td>NaN</td>\n",
       "      <td>NaN</td>\n",
       "      <td>0</td>\n",
       "    </tr>\n",
       "    <tr>\n",
       "      <th>60220</th>\n",
       "      <td>60220</td>\n",
       "      <td>2022-5053</td>\n",
       "      <td>Belgrade</td>\n",
       "      <td>Clay</td>\n",
       "      <td>32</td>\n",
       "      <td>A</td>\n",
       "      <td>2022-04-18</td>\n",
       "      <td>291</td>\n",
       "      <td>111575</td>\n",
       "      <td>3.0</td>\n",
       "      <td>...</td>\n",
       "      <td>NaN</td>\n",
       "      <td>NaN</td>\n",
       "      <td>NaN</td>\n",
       "      <td>NaN</td>\n",
       "      <td>NaN</td>\n",
       "      <td>NaN</td>\n",
       "      <td>NaN</td>\n",
       "      <td>NaN</td>\n",
       "      <td>NaN</td>\n",
       "      <td>0</td>\n",
       "    </tr>\n",
       "    <tr>\n",
       "      <th>60299</th>\n",
       "      <td>60299</td>\n",
       "      <td>2022-1536</td>\n",
       "      <td>Madrid Masters</td>\n",
       "      <td>Clay</td>\n",
       "      <td>64</td>\n",
       "      <td>M</td>\n",
       "      <td>2022-05-02</td>\n",
       "      <td>293</td>\n",
       "      <td>104925</td>\n",
       "      <td>1.0</td>\n",
       "      <td>...</td>\n",
       "      <td>NaN</td>\n",
       "      <td>NaN</td>\n",
       "      <td>NaN</td>\n",
       "      <td>NaN</td>\n",
       "      <td>NaN</td>\n",
       "      <td>NaN</td>\n",
       "      <td>NaN</td>\n",
       "      <td>NaN</td>\n",
       "      <td>NaN</td>\n",
       "      <td>0</td>\n",
       "    </tr>\n",
       "    <tr>\n",
       "      <th>60615</th>\n",
       "      <td>60615</td>\n",
       "      <td>2022-0321</td>\n",
       "      <td>Stuttgart</td>\n",
       "      <td>Grass</td>\n",
       "      <td>32</td>\n",
       "      <td>A</td>\n",
       "      <td>2022-06-06</td>\n",
       "      <td>295</td>\n",
       "      <td>106214</td>\n",
       "      <td>NaN</td>\n",
       "      <td>...</td>\n",
       "      <td>NaN</td>\n",
       "      <td>NaN</td>\n",
       "      <td>NaN</td>\n",
       "      <td>NaN</td>\n",
       "      <td>NaN</td>\n",
       "      <td>NaN</td>\n",
       "      <td>NaN</td>\n",
       "      <td>NaN</td>\n",
       "      <td>NaN</td>\n",
       "      <td>0</td>\n",
       "    </tr>\n",
       "  </tbody>\n",
       "</table>\n",
       "<p>29 rows × 61 columns</p>\n",
       "</div>"
      ],
      "text/plain": [
       "       Unnamed: 0 tourney_id          tourney_name surface  draw_size  \\\n",
       "55275       55275   2020-580       Australian Open    Hard        128   \n",
       "55381       55381  2020-0891                  Pune    Hard         32   \n",
       "55396       55396  2020-0506          Buenos Aires    Clay         32   \n",
       "55474       55474  2020-0407             Rotterdam    Hard         32   \n",
       "56278       56278  2020-0352         Paris Masters    Hard         64   \n",
       "56459       56459  2020-7485               Antwerp    Hard         32   \n",
       "56563       56563  2021-0308                Munich    Clay         32   \n",
       "56681       56681  2021-0316                Bastad    Clay         32   \n",
       "56871       56871  2021-0352         Paris Masters    Hard         64   \n",
       "56962       56962  2021-0403         Miami Masters    Hard        128   \n",
       "57235       57235  2021-0416          Rome Masters    Clay         64   \n",
       "57339       57339  2021-0421        Canada Masters    Hard         64   \n",
       "57558       57558  2021-0451                  Doha    Hard         32   \n",
       "57563       57563  2021-0451                  Doha    Hard         32   \n",
       "58406       58406   2021-580       Australian Open    Hard        128   \n",
       "58501       58501  2021-7290               Estoril    Clay         32   \n",
       "58528       58528  2021-7434                 Sofia    Hard         32   \n",
       "58684       58684  2021-8994              Mallorca   Grass         32   \n",
       "58852       58852  2021-9426               Antalya    Hard         32   \n",
       "58914       58914  2021-9428     Murray River Open    Hard         64   \n",
       "59046       59046  2021-9512            Belgrade 2    Clay         32   \n",
       "59293       59293  2022-9665             Melbourne    Hard         32   \n",
       "59461       59461   2022-580       Australian Open    Hard        128   \n",
       "59871       59871  2022-0404  Indian Wells Masters    Hard        128   \n",
       "59897       59897  2022-0404  Indian Wells Masters    Hard        128   \n",
       "60054       60054  2022-0717               Houston    Clay         32   \n",
       "60220       60220  2022-5053             Belgrade     Clay         32   \n",
       "60299       60299  2022-1536        Madrid Masters    Clay         64   \n",
       "60615       60615  2022-0321             Stuttgart   Grass         32   \n",
       "\n",
       "      tourney_level tourney_date  match_num  winner_id  winner_seed  ...  \\\n",
       "55275             G   2020-01-20        188     126774          6.0  ...   \n",
       "55381             A   2020-02-03        287     105216          5.0  ...   \n",
       "55396             A   2020-02-10        299     105155          NaN  ...   \n",
       "55474             A   2020-02-10        275     206173          NaN  ...   \n",
       "56278             M   2020-11-02        271     105227          NaN  ...   \n",
       "56459             A   2020-10-19        105     105777          4.0  ...   \n",
       "56563             A   2021-04-26        291     105936          4.0  ...   \n",
       "56681             A   2021-07-12        297     134770          1.0  ...   \n",
       "56871             M   2021-11-01        293     104925          1.0  ...   \n",
       "56962             M   2021-03-22        262     105138          7.0  ...   \n",
       "57235             M   2021-05-10        272     105453          NaN  ...   \n",
       "57339             M   2021-08-09        282     128034          7.0  ...   \n",
       "57558             A   2021-03-08        291     126094          3.0  ...   \n",
       "57563             A   2021-03-08        296     126094          3.0  ...   \n",
       "58406             G   2021-02-08        218     126774          5.0  ...   \n",
       "58501             A   2021-04-26        286     106426          2.0  ...   \n",
       "58528             A   2021-09-27        286     104792          2.0  ...   \n",
       "58684             A   2021-06-21        289     105023          NaN  ...   \n",
       "58852             A   2021-01-05        290     105526          5.0  ...   \n",
       "58914             A   2021-02-01        297     104871          NaN  ...   \n",
       "59046             A   2021-05-24        294     105643          8.0  ...   \n",
       "59293             A   2022-01-03        297     104745          1.0  ...   \n",
       "59461             G   2022-01-17        190     105554         24.0  ...   \n",
       "59871             M   2022-03-07        290     106401          NaN  ...   \n",
       "59897             M   2022-03-07        264     105932         18.0  ...   \n",
       "60054             A   2022-04-04        297     106401          NaN  ...   \n",
       "60220             A   2022-04-18        291     111575          3.0  ...   \n",
       "60299             M   2022-05-02        293     104925          1.0  ...   \n",
       "60615             A   2022-06-06        295     106214          NaN  ...   \n",
       "\n",
       "      l_ace_pct w_1st_pct l_1st_pct  w_1stS_WinPct l_1stS_WinPct  \\\n",
       "55275       NaN       NaN       NaN            NaN           NaN   \n",
       "55381       NaN       NaN       NaN            NaN           NaN   \n",
       "55396       NaN       NaN       NaN            NaN           NaN   \n",
       "55474       NaN       NaN       NaN            NaN           NaN   \n",
       "56278       NaN       NaN       NaN            NaN           NaN   \n",
       "56459       NaN       NaN       NaN            NaN           NaN   \n",
       "56563       NaN       NaN       NaN            NaN           NaN   \n",
       "56681       NaN       NaN       NaN            NaN           NaN   \n",
       "56871       NaN       NaN       NaN            NaN           NaN   \n",
       "56962       NaN       NaN       NaN            NaN           NaN   \n",
       "57235       NaN       NaN       NaN            NaN           NaN   \n",
       "57339       NaN       NaN       NaN            NaN           NaN   \n",
       "57558       NaN       NaN       NaN            NaN           NaN   \n",
       "57563       NaN       NaN       NaN            NaN           NaN   \n",
       "58406       NaN       NaN       NaN            NaN           NaN   \n",
       "58501       NaN       NaN       NaN            NaN           NaN   \n",
       "58528       NaN       NaN       NaN            NaN           NaN   \n",
       "58684       NaN       NaN       NaN            NaN           NaN   \n",
       "58852       NaN       NaN       NaN            NaN           NaN   \n",
       "58914       NaN       NaN       NaN            NaN           NaN   \n",
       "59046       NaN       NaN       NaN            NaN           NaN   \n",
       "59293       NaN       NaN       NaN            NaN           NaN   \n",
       "59461       NaN       NaN       NaN            NaN           NaN   \n",
       "59871       NaN       NaN       NaN            NaN           NaN   \n",
       "59897       NaN       NaN       NaN            NaN           NaN   \n",
       "60054       NaN       NaN       NaN            NaN           NaN   \n",
       "60220       NaN       NaN       NaN            NaN           NaN   \n",
       "60299       NaN       NaN       NaN            NaN           NaN   \n",
       "60615       NaN       NaN       NaN            NaN           NaN   \n",
       "\n",
       "       w_2ndS_WinPct  l_2ndS_WinPct  w_PpSgm l_PpSgm Sets_played  \n",
       "55275            NaN            NaN      NaN     NaN           0  \n",
       "55381            NaN            NaN      NaN     NaN           0  \n",
       "55396            NaN            NaN      NaN     NaN           0  \n",
       "55474            NaN            NaN      NaN     NaN           0  \n",
       "56278            NaN            NaN      NaN     NaN           0  \n",
       "56459            NaN            NaN      NaN     NaN           0  \n",
       "56563            NaN            NaN      NaN     NaN           0  \n",
       "56681            NaN            NaN      NaN     NaN           0  \n",
       "56871            NaN            NaN      NaN     NaN           0  \n",
       "56962            NaN            NaN      NaN     NaN           0  \n",
       "57235            NaN            NaN      NaN     NaN           0  \n",
       "57339            NaN            NaN      NaN     NaN           0  \n",
       "57558            NaN            NaN      NaN     NaN           0  \n",
       "57563            NaN            NaN      NaN     NaN           0  \n",
       "58406            NaN            NaN      NaN     NaN           0  \n",
       "58501            NaN            NaN      NaN     NaN           0  \n",
       "58528            NaN            NaN      NaN     NaN           0  \n",
       "58684            NaN            NaN      NaN     NaN           0  \n",
       "58852            NaN            NaN      NaN     NaN           0  \n",
       "58914            NaN            NaN      NaN     NaN           0  \n",
       "59046            NaN            NaN      NaN     NaN           0  \n",
       "59293            NaN            NaN      NaN     NaN           0  \n",
       "59461            NaN            NaN      NaN     NaN           0  \n",
       "59871            NaN            NaN      NaN     NaN           0  \n",
       "59897            NaN            NaN      NaN     NaN           0  \n",
       "60054            NaN            NaN      NaN     NaN           0  \n",
       "60220            NaN            NaN      NaN     NaN           0  \n",
       "60299            NaN            NaN      NaN     NaN           0  \n",
       "60615            NaN            NaN      NaN     NaN           0  \n",
       "\n",
       "[29 rows x 61 columns]"
      ]
     },
     "execution_count": 14,
     "metadata": {},
     "output_type": "execute_result"
    }
   ],
   "source": [
    "df_new.loc[df['minutes'] == 0]"
   ]
  },
  {
   "cell_type": "code",
   "execution_count": 15,
   "id": "967a098a",
   "metadata": {},
   "outputs": [],
   "source": [
    "df_new = df_new.loc[df_new['minutes'] > 0]"
   ]
  },
  {
   "cell_type": "code",
   "execution_count": 16,
   "id": "73036a2e",
   "metadata": {},
   "outputs": [
    {
     "data": {
      "text/html": [
       "<div>\n",
       "<style scoped>\n",
       "    .dataframe tbody tr th:only-of-type {\n",
       "        vertical-align: middle;\n",
       "    }\n",
       "\n",
       "    .dataframe tbody tr th {\n",
       "        vertical-align: top;\n",
       "    }\n",
       "\n",
       "    .dataframe thead th {\n",
       "        text-align: right;\n",
       "    }\n",
       "</style>\n",
       "<table border=\"1\" class=\"dataframe\">\n",
       "  <thead>\n",
       "    <tr style=\"text-align: right;\">\n",
       "      <th></th>\n",
       "      <th>Unnamed: 0</th>\n",
       "      <th>tourney_id</th>\n",
       "      <th>tourney_name</th>\n",
       "      <th>surface</th>\n",
       "      <th>draw_size</th>\n",
       "      <th>tourney_level</th>\n",
       "      <th>tourney_date</th>\n",
       "      <th>match_num</th>\n",
       "      <th>winner_id</th>\n",
       "      <th>winner_seed</th>\n",
       "      <th>...</th>\n",
       "      <th>l_ace_pct</th>\n",
       "      <th>w_1st_pct</th>\n",
       "      <th>l_1st_pct</th>\n",
       "      <th>w_1stS_WinPct</th>\n",
       "      <th>l_1stS_WinPct</th>\n",
       "      <th>w_2ndS_WinPct</th>\n",
       "      <th>l_2ndS_WinPct</th>\n",
       "      <th>w_PpSgm</th>\n",
       "      <th>l_PpSgm</th>\n",
       "      <th>Sets_played</th>\n",
       "    </tr>\n",
       "  </thead>\n",
       "  <tbody>\n",
       "    <tr>\n",
       "      <th>5087</th>\n",
       "      <td>5087</td>\n",
       "      <td>2003-495</td>\n",
       "      <td>Dubai</td>\n",
       "      <td>Hard</td>\n",
       "      <td>32</td>\n",
       "      <td>A</td>\n",
       "      <td>2003-02-24</td>\n",
       "      <td>2</td>\n",
       "      <td>103948</td>\n",
       "      <td>NaN</td>\n",
       "      <td>...</td>\n",
       "      <td>0.000000</td>\n",
       "      <td>0.333333</td>\n",
       "      <td>0.750000</td>\n",
       "      <td>1.000000</td>\n",
       "      <td>1.000000</td>\n",
       "      <td>0.500000</td>\n",
       "      <td>1.000000</td>\n",
       "      <td>inf</td>\n",
       "      <td>4.0</td>\n",
       "      <td>1</td>\n",
       "    </tr>\n",
       "    <tr>\n",
       "      <th>13339</th>\n",
       "      <td>13339</td>\n",
       "      <td>2006-317</td>\n",
       "      <td>Amersfoort</td>\n",
       "      <td>Clay</td>\n",
       "      <td>32</td>\n",
       "      <td>A</td>\n",
       "      <td>2006-07-17</td>\n",
       "      <td>8</td>\n",
       "      <td>105217</td>\n",
       "      <td>NaN</td>\n",
       "      <td>...</td>\n",
       "      <td>0.037736</td>\n",
       "      <td>0.417910</td>\n",
       "      <td>0.679245</td>\n",
       "      <td>0.785714</td>\n",
       "      <td>0.527778</td>\n",
       "      <td>0.538462</td>\n",
       "      <td>0.529412</td>\n",
       "      <td>inf</td>\n",
       "      <td>inf</td>\n",
       "      <td>2</td>\n",
       "    </tr>\n",
       "    <tr>\n",
       "      <th>18261</th>\n",
       "      <td>18261</td>\n",
       "      <td>2007-520</td>\n",
       "      <td>Roland Garros</td>\n",
       "      <td>Clay</td>\n",
       "      <td>128</td>\n",
       "      <td>G</td>\n",
       "      <td>2007-05-28</td>\n",
       "      <td>8</td>\n",
       "      <td>104022</td>\n",
       "      <td>13.0</td>\n",
       "      <td>...</td>\n",
       "      <td>0.000000</td>\n",
       "      <td>NaN</td>\n",
       "      <td>0.555556</td>\n",
       "      <td>NaN</td>\n",
       "      <td>0.600000</td>\n",
       "      <td>NaN</td>\n",
       "      <td>0.250000</td>\n",
       "      <td>NaN</td>\n",
       "      <td>inf</td>\n",
       "      <td>0</td>\n",
       "    </tr>\n",
       "    <tr>\n",
       "      <th>25031</th>\n",
       "      <td>25031</td>\n",
       "      <td>2009-580</td>\n",
       "      <td>Australian Open</td>\n",
       "      <td>Hard</td>\n",
       "      <td>128</td>\n",
       "      <td>G</td>\n",
       "      <td>2009-01-19</td>\n",
       "      <td>92</td>\n",
       "      <td>103970</td>\n",
       "      <td>11.0</td>\n",
       "      <td>...</td>\n",
       "      <td>0.000000</td>\n",
       "      <td>0.666667</td>\n",
       "      <td>0.437500</td>\n",
       "      <td>0.916667</td>\n",
       "      <td>0.571429</td>\n",
       "      <td>0.500000</td>\n",
       "      <td>0.444444</td>\n",
       "      <td>inf</td>\n",
       "      <td>4.0</td>\n",
       "      <td>3</td>\n",
       "    </tr>\n",
       "    <tr>\n",
       "      <th>31574</th>\n",
       "      <td>31574</td>\n",
       "      <td>2011-328</td>\n",
       "      <td>Basel</td>\n",
       "      <td>Hard</td>\n",
       "      <td>32</td>\n",
       "      <td>A</td>\n",
       "      <td>2011-10-31</td>\n",
       "      <td>8</td>\n",
       "      <td>103484</td>\n",
       "      <td>NaN</td>\n",
       "      <td>...</td>\n",
       "      <td>0.000000</td>\n",
       "      <td>1.000000</td>\n",
       "      <td>0.125000</td>\n",
       "      <td>1.000000</td>\n",
       "      <td>1.000000</td>\n",
       "      <td>NaN</td>\n",
       "      <td>0.571429</td>\n",
       "      <td>inf</td>\n",
       "      <td>8.0</td>\n",
       "      <td>1</td>\n",
       "    </tr>\n",
       "    <tr>\n",
       "      <th>39477</th>\n",
       "      <td>39477</td>\n",
       "      <td>2014-316</td>\n",
       "      <td>Bastad</td>\n",
       "      <td>Clay</td>\n",
       "      <td>28</td>\n",
       "      <td>A</td>\n",
       "      <td>2014-07-07</td>\n",
       "      <td>6</td>\n",
       "      <td>105311</td>\n",
       "      <td>5.0</td>\n",
       "      <td>...</td>\n",
       "      <td>0.000000</td>\n",
       "      <td>NaN</td>\n",
       "      <td>0.583333</td>\n",
       "      <td>NaN</td>\n",
       "      <td>1.000000</td>\n",
       "      <td>NaN</td>\n",
       "      <td>0.000000</td>\n",
       "      <td>NaN</td>\n",
       "      <td>12.0</td>\n",
       "      <td>1</td>\n",
       "    </tr>\n",
       "    <tr>\n",
       "      <th>49045</th>\n",
       "      <td>49045</td>\n",
       "      <td>2017-0329</td>\n",
       "      <td>Tokyo</td>\n",
       "      <td>Hard</td>\n",
       "      <td>32</td>\n",
       "      <td>A</td>\n",
       "      <td>2017-10-02</td>\n",
       "      <td>291</td>\n",
       "      <td>105216</td>\n",
       "      <td>NaN</td>\n",
       "      <td>...</td>\n",
       "      <td>0.000000</td>\n",
       "      <td>NaN</td>\n",
       "      <td>0.625000</td>\n",
       "      <td>NaN</td>\n",
       "      <td>0.600000</td>\n",
       "      <td>NaN</td>\n",
       "      <td>0.000000</td>\n",
       "      <td>NaN</td>\n",
       "      <td>8.0</td>\n",
       "      <td>1</td>\n",
       "    </tr>\n",
       "  </tbody>\n",
       "</table>\n",
       "<p>7 rows × 61 columns</p>\n",
       "</div>"
      ],
      "text/plain": [
       "       Unnamed: 0 tourney_id     tourney_name surface  draw_size  \\\n",
       "5087         5087   2003-495            Dubai    Hard         32   \n",
       "13339       13339   2006-317       Amersfoort    Clay         32   \n",
       "18261       18261   2007-520    Roland Garros    Clay        128   \n",
       "25031       25031   2009-580  Australian Open    Hard        128   \n",
       "31574       31574   2011-328            Basel    Hard         32   \n",
       "39477       39477   2014-316           Bastad    Clay         28   \n",
       "49045       49045  2017-0329            Tokyo    Hard         32   \n",
       "\n",
       "      tourney_level tourney_date  match_num  winner_id  winner_seed  ...  \\\n",
       "5087              A   2003-02-24          2     103948          NaN  ...   \n",
       "13339             A   2006-07-17          8     105217          NaN  ...   \n",
       "18261             G   2007-05-28          8     104022         13.0  ...   \n",
       "25031             G   2009-01-19         92     103970         11.0  ...   \n",
       "31574             A   2011-10-31          8     103484          NaN  ...   \n",
       "39477             A   2014-07-07          6     105311          5.0  ...   \n",
       "49045             A   2017-10-02        291     105216          NaN  ...   \n",
       "\n",
       "      l_ace_pct w_1st_pct l_1st_pct  w_1stS_WinPct l_1stS_WinPct  \\\n",
       "5087   0.000000  0.333333  0.750000       1.000000      1.000000   \n",
       "13339  0.037736  0.417910  0.679245       0.785714      0.527778   \n",
       "18261  0.000000       NaN  0.555556            NaN      0.600000   \n",
       "25031  0.000000  0.666667  0.437500       0.916667      0.571429   \n",
       "31574  0.000000  1.000000  0.125000       1.000000      1.000000   \n",
       "39477  0.000000       NaN  0.583333            NaN      1.000000   \n",
       "49045  0.000000       NaN  0.625000            NaN      0.600000   \n",
       "\n",
       "       w_2ndS_WinPct  l_2ndS_WinPct  w_PpSgm l_PpSgm Sets_played  \n",
       "5087        0.500000       1.000000      inf     4.0           1  \n",
       "13339       0.538462       0.529412      inf     inf           2  \n",
       "18261            NaN       0.250000      NaN     inf           0  \n",
       "25031       0.500000       0.444444      inf     4.0           3  \n",
       "31574            NaN       0.571429      inf     8.0           1  \n",
       "39477            NaN       0.000000      NaN    12.0           1  \n",
       "49045            NaN       0.000000      NaN     8.0           1  \n",
       "\n",
       "[7 rows x 61 columns]"
      ]
     },
     "execution_count": 16,
     "metadata": {},
     "output_type": "execute_result"
    }
   ],
   "source": [
    "df_new.loc[df['w_SvGms'] == 0]"
   ]
  },
  {
   "cell_type": "code",
   "execution_count": 17,
   "id": "6a342f55",
   "metadata": {},
   "outputs": [],
   "source": [
    "df_new = df_new.loc[df_new['w_SvGms'] > 0]"
   ]
  },
  {
   "cell_type": "markdown",
   "id": "240dd6d7",
   "metadata": {},
   "source": [
    "#### Duplicates check"
   ]
  },
  {
   "cell_type": "code",
   "execution_count": 18,
   "id": "2f5b439a",
   "metadata": {},
   "outputs": [],
   "source": [
    "dups = df_new.duplicated()"
   ]
  },
  {
   "cell_type": "code",
   "execution_count": 19,
   "id": "0d39d6ba",
   "metadata": {},
   "outputs": [
    {
     "data": {
      "text/plain": [
       "(53901,)"
      ]
     },
     "execution_count": 19,
     "metadata": {},
     "output_type": "execute_result"
    }
   ],
   "source": [
    "dups.shape\n",
    "# No duplicates identified"
   ]
  },
  {
   "cell_type": "markdown",
   "id": "0a1f8e40",
   "metadata": {},
   "source": [
    "#### Extreme values checks"
   ]
  },
  {
   "cell_type": "code",
   "execution_count": 20,
   "id": "ce9267b6",
   "metadata": {},
   "outputs": [
    {
     "name": "stderr",
     "output_type": "stream",
     "text": [
      "C:\\Users\\chris\\anaconda3\\lib\\site-packages\\seaborn\\distributions.py:2619: FutureWarning: `distplot` is a deprecated function and will be removed in a future version. Please adapt your code to use either `displot` (a figure-level function with similar flexibility) or `histplot` (an axes-level function for histograms).\n",
      "  warnings.warn(msg, FutureWarning)\n"
     ]
    },
    {
     "data": {
      "text/plain": [
       "<AxesSubplot:xlabel='w_SvGms', ylabel='Density'>"
      ]
     },
     "execution_count": 20,
     "metadata": {},
     "output_type": "execute_result"
    },
    {
     "data": {
      "image/png": "[encoded data removed]",
      "text/plain": [
       "<Figure size 432x288 with 1 Axes>"
      ]
     },
     "metadata": {
      "needs_background": "light"
     },
     "output_type": "display_data"
    }
   ],
   "source": [
    "sns.distplot(df_new['w_SvGms'], bins=30)"
   ]
  },
  {
   "cell_type": "code",
   "execution_count": 21,
   "id": "f992a437",
   "metadata": {},
   "outputs": [
    {
     "data": {
      "text/plain": [
       "<seaborn.axisgrid.FacetGrid at 0x20638ce0ee0>"
      ]
     },
     "execution_count": 21,
     "metadata": {},
     "output_type": "execute_result"
    },
    {
     "data": {
      "image/png": "[encoded data removed]",
      "text/plain": [
       "<Figure size 360x360 with 1 Axes>"
      ]
     },
     "metadata": {
      "needs_background": "light"
     },
     "output_type": "display_data"
    }
   ],
   "source": [
    "# Testing other plots as suggested by future warning as 'distplot' will be deprecated\n",
    "sns.displot(df_new['w_SvGms'], bins=30)"
   ]
  },
  {
   "cell_type": "code",
   "execution_count": 22,
   "id": "e3927028",
   "metadata": {},
   "outputs": [
    {
     "data": {
      "text/plain": [
       "<AxesSubplot:xlabel='w_SvGms', ylabel='Count'>"
      ]
     },
     "execution_count": 22,
     "metadata": {},
     "output_type": "execute_result"
    },
    {
     "data": {
      "image/png": "[encoded data removed]",
      "text/plain": [
       "<Figure size 432x288 with 1 Axes>"
      ]
     },
     "metadata": {
      "needs_background": "light"
     },
     "output_type": "display_data"
    }
   ],
   "source": [
    "# Testing other plots as suggested by future warning as 'distplot' will be deprecated\n",
    "sns.histplot(df_new['w_SvGms'], bins=30)"
   ]
  },
  {
   "cell_type": "code",
   "execution_count": 23,
   "id": "b7108102",
   "metadata": {},
   "outputs": [
    {
     "data": {
      "text/plain": [
       "12.497653104766146"
      ]
     },
     "execution_count": 23,
     "metadata": {},
     "output_type": "execute_result"
    }
   ],
   "source": [
    "df_new['w_SvGms'].mean()"
   ]
  },
  {
   "cell_type": "code",
   "execution_count": 24,
   "id": "dcde8799",
   "metadata": {},
   "outputs": [
    {
     "data": {
      "text/plain": [
       "11.0"
      ]
     },
     "execution_count": 24,
     "metadata": {},
     "output_type": "execute_result"
    }
   ],
   "source": [
    "df_new['w_SvGms'].median()"
   ]
  },
  {
   "cell_type": "code",
   "execution_count": 25,
   "id": "6fefe856",
   "metadata": {},
   "outputs": [
    {
     "data": {
      "text/plain": [
       "90.0"
      ]
     },
     "execution_count": 25,
     "metadata": {},
     "output_type": "execute_result"
    }
   ],
   "source": [
    "df_new['w_SvGms'].max()"
   ]
  },
  {
   "cell_type": "code",
   "execution_count": 26,
   "id": "7ee8284b",
   "metadata": {},
   "outputs": [
    {
     "data": {
      "text/plain": [
       "106.73573774141481"
      ]
     },
     "execution_count": 26,
     "metadata": {},
     "output_type": "execute_result"
    }
   ],
   "source": [
    "df_new['minutes'].mean()"
   ]
  },
  {
   "cell_type": "code",
   "execution_count": 27,
   "id": "2a69d862",
   "metadata": {},
   "outputs": [
    {
     "data": {
      "text/plain": [
       "99.0"
      ]
     },
     "execution_count": 27,
     "metadata": {},
     "output_type": "execute_result"
    }
   ],
   "source": [
    "df_new['minutes'].median()"
   ]
  },
  {
   "cell_type": "code",
   "execution_count": 28,
   "id": "cc4f9221",
   "metadata": {},
   "outputs": [
    {
     "data": {
      "text/plain": [
       "665.0"
      ]
     },
     "execution_count": 28,
     "metadata": {},
     "output_type": "execute_result"
    }
   ],
   "source": [
    "df_new['minutes'].max()"
   ]
  },
  {
   "cell_type": "code",
   "execution_count": 29,
   "id": "597454a6",
   "metadata": {},
   "outputs": [
    {
     "data": {
      "text/plain": [
       "3.0"
      ]
     },
     "execution_count": 29,
     "metadata": {},
     "output_type": "execute_result"
    }
   ],
   "source": [
    "df_new['minutes'].min()"
   ]
  },
  {
   "cell_type": "markdown",
   "id": "6fb9a0bf",
   "metadata": {},
   "source": [
    "## 3. Data Preparation for Regression Analysis"
   ]
  },
  {
   "cell_type": "code",
   "execution_count": 30,
   "id": "88fb753c",
   "metadata": {},
   "outputs": [
    {
     "data": {
      "image/png": "[encoded data removed]",
      "text/plain": [
       "<Figure size 432x288 with 1 Axes>"
      ]
     },
     "metadata": {
      "needs_background": "light"
     },
     "output_type": "display_data"
    }
   ],
   "source": [
    "# Create a scatterplot using matplotlib for another look at how the chosen variables plot against each other.\n",
    "\n",
    "df_new.plot(x = 'w_SvGms', y='minutes',style='o') # The style option creates a scatterplot; without it, we only have lines.\n",
    "plt.title('Number of service_games vs. match length in minutes')  \n",
    "plt.xlabel('Number of Service Games')  \n",
    "plt.ylabel('Match length in minutes')  \n",
    "plt.show()"
   ]
  },
  {
   "cell_type": "code",
   "execution_count": 31,
   "id": "c619dbcd",
   "metadata": {},
   "outputs": [],
   "source": [
    "# Reshape the variables into NumPy arrays and put them into separate objects.\n",
    "\n",
    "X = df_new['w_SvGms'].values.reshape(-1,1)\n",
    "y = df_new['minutes'].values.reshape(-1,1)"
   ]
  },
  {
   "cell_type": "code",
   "execution_count": 32,
   "id": "05c446a0",
   "metadata": {},
   "outputs": [
    {
     "data": {
      "text/plain": [
       "array([[11.],\n",
       "       [ 7.],\n",
       "       [ 8.],\n",
       "       ...,\n",
       "       [11.],\n",
       "       [10.],\n",
       "       [10.]])"
      ]
     },
     "execution_count": 32,
     "metadata": {},
     "output_type": "execute_result"
    }
   ],
   "source": [
    "X"
   ]
  },
  {
   "cell_type": "code",
   "execution_count": 33,
   "id": "9b47c109",
   "metadata": {},
   "outputs": [
    {
     "data": {
      "text/plain": [
       "array([[ 91.],\n",
       "       [ 55.],\n",
       "       [ 58.],\n",
       "       ...,\n",
       "       [250.],\n",
       "       [ 98.],\n",
       "       [ 92.]])"
      ]
     },
     "execution_count": 33,
     "metadata": {},
     "output_type": "execute_result"
    }
   ],
   "source": [
    "y"
   ]
  },
  {
   "cell_type": "code",
   "execution_count": 34,
   "id": "79fcb3cf",
   "metadata": {},
   "outputs": [],
   "source": [
    "# Split data into a training set and a test set.\n",
    "\n",
    "X_train, X_test, y_train, y_test = train_test_split(X, y, test_size=0.3, random_state=0)"
   ]
  },
  {
   "cell_type": "markdown",
   "id": "315a7522",
   "metadata": {},
   "source": [
    "## 4. Regression analysis"
   ]
  },
  {
   "cell_type": "code",
   "execution_count": 35,
   "id": "a47cbb44",
   "metadata": {},
   "outputs": [],
   "source": [
    "# Create a regression object.\n",
    "\n",
    "regression = LinearRegression()"
   ]
  },
  {
   "cell_type": "code",
   "execution_count": 36,
   "id": "451b19ac",
   "metadata": {},
   "outputs": [
    {
     "data": {
      "text/plain": [
       "LinearRegression()"
      ]
     },
     "execution_count": 36,
     "metadata": {},
     "output_type": "execute_result"
    }
   ],
   "source": [
    "# Fit the regression object onto the training set.\n",
    "\n",
    "regression.fit(X_train, y_train)"
   ]
  },
  {
   "cell_type": "code",
   "execution_count": 37,
   "id": "f320cd24",
   "metadata": {},
   "outputs": [],
   "source": [
    "# Predict the values of y using X.\n",
    "\n",
    "y_predicted = regression.predict(X_test)"
   ]
  },
  {
   "cell_type": "code",
   "execution_count": 38,
   "id": "17124e9d",
   "metadata": {},
   "outputs": [
    {
     "data": {
      "image/png": "[encoded data removed]",
      "text/plain": [
       "<Figure size 432x288 with 1 Axes>"
      ]
     },
     "metadata": {
      "needs_background": "light"
     },
     "output_type": "display_data"
    }
   ],
   "source": [
    "# Create a plot that shows the regression line from the model on the test set.\n",
    "\n",
    "plot_test = plt\n",
    "plot_test.scatter(X_test, y_test, color='gray', s = 15)\n",
    "plot_test.plot(X_test, y_predicted, color='red', linewidth =3)\n",
    "plot_test.title('Service Games vs. Match length (Test set)')\n",
    "plot_test.xlabel('Winner Service Games')\n",
    "plot_test.ylabel('Match Length in Minutes')\n",
    "plot_test.show()"
   ]
  },
  {
   "cell_type": "code",
   "execution_count": 39,
   "id": "417f8d58",
   "metadata": {},
   "outputs": [],
   "source": [
    "# Create objects that contain the model summary statistics.\n",
    "\n",
    "rmse = mean_squared_error(y_test, y_predicted) # This is the mean squared error\n",
    "r2 = r2_score(y_test, y_predicted) # This is the R2 score. "
   ]
  },
  {
   "cell_type": "code",
   "execution_count": 40,
   "id": "6ac7a563",
   "metadata": {},
   "outputs": [
    {
     "name": "stdout",
     "output_type": "stream",
     "text": [
      "Slope: [[8.83456219]]\n",
      "Mean squared error:  296.6503389104608\n",
      "R2 score:  0.8262912909250335\n"
     ]
    }
   ],
   "source": [
    "# Print the model summary statistics. This is where you evaluate the performance of the model.\n",
    "\n",
    "print('Slope:' ,regression.coef_)\n",
    "print('Mean squared error: ', rmse)\n",
    "print('R2 score: ', r2)"
   ]
  },
  {
   "cell_type": "code",
   "execution_count": 41,
   "id": "361ad468",
   "metadata": {},
   "outputs": [
    {
     "data": {
      "text/plain": [
       "array([[155.31575696],\n",
       "       [146.48119477],\n",
       "       [ 93.47382165],\n",
       "       ...,\n",
       "       [137.64663259],\n",
       "       [ 84.63925946],\n",
       "       [111.14294602]])"
      ]
     },
     "execution_count": 41,
     "metadata": {},
     "output_type": "execute_result"
    }
   ],
   "source": [
    "y_predicted"
   ]
  },
  {
   "cell_type": "code",
   "execution_count": 42,
   "id": "184af688",
   "metadata": {},
   "outputs": [
    {
     "data": {
      "text/html": [
       "<div>\n",
       "<style scoped>\n",
       "    .dataframe tbody tr th:only-of-type {\n",
       "        vertical-align: middle;\n",
       "    }\n",
       "\n",
       "    .dataframe tbody tr th {\n",
       "        vertical-align: top;\n",
       "    }\n",
       "\n",
       "    .dataframe thead th {\n",
       "        text-align: right;\n",
       "    }\n",
       "</style>\n",
       "<table border=\"1\" class=\"dataframe\">\n",
       "  <thead>\n",
       "    <tr style=\"text-align: right;\">\n",
       "      <th></th>\n",
       "      <th>Actual</th>\n",
       "      <th>Predicted</th>\n",
       "    </tr>\n",
       "  </thead>\n",
       "  <tbody>\n",
       "    <tr>\n",
       "      <th>0</th>\n",
       "      <td>159.0</td>\n",
       "      <td>155.315757</td>\n",
       "    </tr>\n",
       "    <tr>\n",
       "      <th>1</th>\n",
       "      <td>113.0</td>\n",
       "      <td>146.481195</td>\n",
       "    </tr>\n",
       "    <tr>\n",
       "      <th>2</th>\n",
       "      <td>104.0</td>\n",
       "      <td>93.473822</td>\n",
       "    </tr>\n",
       "    <tr>\n",
       "      <th>3</th>\n",
       "      <td>67.0</td>\n",
       "      <td>58.135573</td>\n",
       "    </tr>\n",
       "    <tr>\n",
       "      <th>4</th>\n",
       "      <td>237.0</td>\n",
       "      <td>208.323130</td>\n",
       "    </tr>\n",
       "    <tr>\n",
       "      <th>5</th>\n",
       "      <td>60.0</td>\n",
       "      <td>58.135573</td>\n",
       "    </tr>\n",
       "    <tr>\n",
       "      <th>6</th>\n",
       "      <td>57.0</td>\n",
       "      <td>66.970135</td>\n",
       "    </tr>\n",
       "    <tr>\n",
       "      <th>7</th>\n",
       "      <td>75.0</td>\n",
       "      <td>84.639259</td>\n",
       "    </tr>\n",
       "    <tr>\n",
       "      <th>8</th>\n",
       "      <td>156.0</td>\n",
       "      <td>137.646633</td>\n",
       "    </tr>\n",
       "    <tr>\n",
       "      <th>9</th>\n",
       "      <td>50.0</td>\n",
       "      <td>66.970135</td>\n",
       "    </tr>\n",
       "    <tr>\n",
       "      <th>10</th>\n",
       "      <td>63.0</td>\n",
       "      <td>75.804697</td>\n",
       "    </tr>\n",
       "    <tr>\n",
       "      <th>11</th>\n",
       "      <td>126.0</td>\n",
       "      <td>128.812070</td>\n",
       "    </tr>\n",
       "    <tr>\n",
       "      <th>12</th>\n",
       "      <td>158.0</td>\n",
       "      <td>155.315757</td>\n",
       "    </tr>\n",
       "    <tr>\n",
       "      <th>13</th>\n",
       "      <td>252.0</td>\n",
       "      <td>243.661379</td>\n",
       "    </tr>\n",
       "    <tr>\n",
       "      <th>14</th>\n",
       "      <td>305.0</td>\n",
       "      <td>243.661379</td>\n",
       "    </tr>\n",
       "    <tr>\n",
       "      <th>15</th>\n",
       "      <td>169.0</td>\n",
       "      <td>164.150319</td>\n",
       "    </tr>\n",
       "    <tr>\n",
       "      <th>16</th>\n",
       "      <td>118.0</td>\n",
       "      <td>119.977508</td>\n",
       "    </tr>\n",
       "    <tr>\n",
       "      <th>17</th>\n",
       "      <td>97.0</td>\n",
       "      <td>84.639259</td>\n",
       "    </tr>\n",
       "    <tr>\n",
       "      <th>18</th>\n",
       "      <td>77.0</td>\n",
       "      <td>75.804697</td>\n",
       "    </tr>\n",
       "    <tr>\n",
       "      <th>19</th>\n",
       "      <td>130.0</td>\n",
       "      <td>128.812070</td>\n",
       "    </tr>\n",
       "    <tr>\n",
       "      <th>20</th>\n",
       "      <td>100.0</td>\n",
       "      <td>128.812070</td>\n",
       "    </tr>\n",
       "    <tr>\n",
       "      <th>21</th>\n",
       "      <td>26.0</td>\n",
       "      <td>5.128200</td>\n",
       "    </tr>\n",
       "    <tr>\n",
       "      <th>22</th>\n",
       "      <td>144.0</td>\n",
       "      <td>146.481195</td>\n",
       "    </tr>\n",
       "    <tr>\n",
       "      <th>23</th>\n",
       "      <td>93.0</td>\n",
       "      <td>93.473822</td>\n",
       "    </tr>\n",
       "    <tr>\n",
       "      <th>24</th>\n",
       "      <td>97.0</td>\n",
       "      <td>111.142946</td>\n",
       "    </tr>\n",
       "    <tr>\n",
       "      <th>25</th>\n",
       "      <td>157.0</td>\n",
       "      <td>155.315757</td>\n",
       "    </tr>\n",
       "    <tr>\n",
       "      <th>26</th>\n",
       "      <td>201.0</td>\n",
       "      <td>190.654006</td>\n",
       "    </tr>\n",
       "    <tr>\n",
       "      <th>27</th>\n",
       "      <td>70.0</td>\n",
       "      <td>66.970135</td>\n",
       "    </tr>\n",
       "    <tr>\n",
       "      <th>28</th>\n",
       "      <td>117.0</td>\n",
       "      <td>84.639259</td>\n",
       "    </tr>\n",
       "    <tr>\n",
       "      <th>29</th>\n",
       "      <td>70.0</td>\n",
       "      <td>84.639259</td>\n",
       "    </tr>\n",
       "  </tbody>\n",
       "</table>\n",
       "</div>"
      ],
      "text/plain": [
       "    Actual   Predicted\n",
       "0    159.0  155.315757\n",
       "1    113.0  146.481195\n",
       "2    104.0   93.473822\n",
       "3     67.0   58.135573\n",
       "4    237.0  208.323130\n",
       "5     60.0   58.135573\n",
       "6     57.0   66.970135\n",
       "7     75.0   84.639259\n",
       "8    156.0  137.646633\n",
       "9     50.0   66.970135\n",
       "10    63.0   75.804697\n",
       "11   126.0  128.812070\n",
       "12   158.0  155.315757\n",
       "13   252.0  243.661379\n",
       "14   305.0  243.661379\n",
       "15   169.0  164.150319\n",
       "16   118.0  119.977508\n",
       "17    97.0   84.639259\n",
       "18    77.0   75.804697\n",
       "19   130.0  128.812070\n",
       "20   100.0  128.812070\n",
       "21    26.0    5.128200\n",
       "22   144.0  146.481195\n",
       "23    93.0   93.473822\n",
       "24    97.0  111.142946\n",
       "25   157.0  155.315757\n",
       "26   201.0  190.654006\n",
       "27    70.0   66.970135\n",
       "28   117.0   84.639259\n",
       "29    70.0   84.639259"
      ]
     },
     "execution_count": 42,
     "metadata": {},
     "output_type": "execute_result"
    }
   ],
   "source": [
    "# Create a dataframe comparing the actual and predicted values of y.\n",
    "\n",
    "data = pd.DataFrame({'Actual': y_test.flatten(), 'Predicted': y_predicted.flatten()})\n",
    "data.head(30)"
   ]
  },
  {
   "cell_type": "markdown",
   "id": "462d3756",
   "metadata": {},
   "source": [
    "#### Comparing how the regression fits the training set"
   ]
  },
  {
   "cell_type": "code",
   "execution_count": 43,
   "id": "5b3677d1",
   "metadata": {},
   "outputs": [],
   "source": [
    "# Predict.\n",
    "\n",
    "y_predicted_train = regression.predict(X_train) # This is predicting X_train!"
   ]
  },
  {
   "cell_type": "code",
   "execution_count": 44,
   "id": "1570e149",
   "metadata": {},
   "outputs": [],
   "source": [
    "rmse = mean_squared_error(y_train, y_predicted_train)\n",
    "r2 = r2_score(y_train, y_predicted_train)"
   ]
  },
  {
   "cell_type": "code",
   "execution_count": 45,
   "id": "24390105",
   "metadata": {},
   "outputs": [
    {
     "name": "stdout",
     "output_type": "stream",
     "text": [
      "Slope: [[8.83456219]]\n",
      "Mean squared error:  277.7127761206507\n",
      "R2 score:  0.8315602753796367\n"
     ]
    }
   ],
   "source": [
    "print('Slope:' ,regression.coef_)\n",
    "print('Mean squared error: ', rmse)\n",
    "print('R2 score: ', r2)"
   ]
  },
  {
   "cell_type": "code",
   "execution_count": 46,
   "id": "88b82cff",
   "metadata": {},
   "outputs": [
    {
     "data": {
      "image/png": "[encoded data removed]",
      "text/plain": [
       "<Figure size 432x288 with 1 Axes>"
      ]
     },
     "metadata": {
      "needs_background": "light"
     },
     "output_type": "display_data"
    }
   ],
   "source": [
    "# Visualizing the training set results.\n",
    "\n",
    "plot_test = plt\n",
    "plot_test.scatter(X_train, y_train, color='green', s = 15)\n",
    "plot_test.plot(X_train, y_predicted_train, color='red', linewidth =3)\n",
    "plot_test.title('Service Games vs. Match length (Test set)')\n",
    "plot_test.xlabel('Winner Service Games')\n",
    "plot_test.ylabel('Match Length in Minutes')\n",
    "plot_test.show()"
   ]
  },
  {
   "cell_type": "markdown",
   "id": "8a8a6463",
   "metadata": {},
   "source": [
    "### Reflections on the result"
   ]
  },
  {
   "cell_type": "markdown",
   "id": "1e70ae07",
   "metadata": {},
   "source": [
    "Overall, I think the model performed very well.\n",
    "An R2 Score of 83% is fair enough as there is no absolute correlation between these points.\n",
    "Although the Mean squared error withh 277 seems to be very high, the root of 277 is 16. So If you are predicting the match length with +/- 15 minutes on average I would consider this accurate enough\n",
    "The biggest bias in this analysis are:\n",
    "    - I only looked at the number of Winners Service Games, although the Service Games are changing every other game, it may still be that the total number of Service Games played is uneven because the loser starting serving first (e.g. total number of service games 41, winner service games 20, loser service games 21)\n",
    "    - Another factor that is not considered is that a tiebreak is not considered as a serivce game, so for every tiebreak played in a match the time played is considered to be time played in a regular service game causing longer match time although the number of games recorded does not increase\n",
    "    - The number of points played in a service game is unlimited, unless one player makes a min. of 4 points and 2 points more then the opponent, however if the players both score and only get to +/-1 points within the service game a single service game can go on forever\n",
    "    - Sometimes matches have breaks (s.a. medical time outs), while the match clock keeps running there are no points played in this time thus also extending the match length\n",
    "    \n",
    "For a rerun of the analysis the total number of service points played by both players should be added in a new column and used to run this analysis again and see if this leads to a closer result."
   ]
  },
  {
   "cell_type": "code",
   "execution_count": null,
   "id": "11992bba",
   "metadata": {},
   "outputs": [],
   "source": []
  }
 ],
 "metadata": {
  "kernelspec": {
   "display_name": "Python 3 (ipykernel)",
   "language": "python",
   "name": "python3"
  },
  "language_info": {
   "codemirror_mode": {
    "name": "ipython",
    "version": 3
   },
   "file_extension": ".py",
   "mimetype": "text/x-python",
   "name": "python",
   "nbconvert_exporter": "python",
   "pygments_lexer": "ipython3",
   "version": "3.9.12"
  }
 },
 "nbformat": 4,
 "nbformat_minor": 5
}
